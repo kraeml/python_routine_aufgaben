{
 "cells": [
  {
   "cell_type": "markdown",
   "metadata": {},
   "source": [
    "# Panta Rhei (Flusssteuerung)\n",
    "\n",
    "## Gleichheit von Text und Zahlen"
   ]
  },
  {
   "cell_type": "code",
   "execution_count": 1,
   "metadata": {
    "collapsed": false
   },
   "outputs": [
    {
     "data": {
      "text/plain": [
       "False"
      ]
     },
     "execution_count": 1,
     "metadata": {},
     "output_type": "execute_result"
    }
   ],
   "source": [
    "42 == '42'"
   ]
  },
  {
   "cell_type": "code",
   "execution_count": 2,
   "metadata": {
    "collapsed": false
   },
   "outputs": [
    {
     "data": {
      "text/plain": [
       "True"
      ]
     },
     "execution_count": 2,
     "metadata": {},
     "output_type": "execute_result"
    }
   ],
   "source": [
    "42 == 42.0"
   ]
  },
  {
   "cell_type": "code",
   "execution_count": 3,
   "metadata": {
    "collapsed": false
   },
   "outputs": [
    {
     "data": {
      "text/plain": [
       "True"
      ]
     },
     "execution_count": 3,
     "metadata": {},
     "output_type": "execute_result"
    }
   ],
   "source": [
    "42.0 == 0042.000"
   ]
  },
  {
   "cell_type": "markdown",
   "metadata": {},
   "source": [
    "## Boolsche Werte"
   ]
  },
  {
   "cell_type": "code",
   "execution_count": 19,
   "metadata": {
    "collapsed": false
   },
   "outputs": [
    {
     "data": {
      "text/plain": [
       "True"
      ]
     },
     "execution_count": 19,
     "metadata": {},
     "output_type": "execute_result"
    }
   ],
   "source": [
    "spam = True\n",
    "spam"
   ]
  },
  {
   "cell_type": "code",
   "execution_count": 20,
   "metadata": {
    "collapsed": false
   },
   "outputs": [
    {
     "ename": "NameError",
     "evalue": "name 'true' is not defined",
     "output_type": "error",
     "traceback": [
      "\u001b[0;31m---------------------------------------------------------------------------\u001b[0m",
      "\u001b[0;31mNameError\u001b[0m                                 Traceback (most recent call last)",
      "\u001b[0;32m<ipython-input-20-74d9a83219ca>\u001b[0m in \u001b[0;36m<module>\u001b[0;34m()\u001b[0m\n\u001b[0;32m----> 1\u001b[0;31m \u001b[0mtrue\u001b[0m\u001b[0;34m\u001b[0m\u001b[0m\n\u001b[0m",
      "\u001b[0;31mNameError\u001b[0m: name 'true' is not defined"
     ]
    }
   ],
   "source": [
    "true"
   ]
  },
  {
   "cell_type": "code",
   "execution_count": 21,
   "metadata": {
    "collapsed": false
   },
   "outputs": [
    {
     "ename": "NameError",
     "evalue": "name 'true' is not defined",
     "output_type": "error",
     "traceback": [
      "\u001b[0;31m---------------------------------------------------------------------------\u001b[0m",
      "\u001b[0;31mNameError\u001b[0m                                 Traceback (most recent call last)",
      "\u001b[0;32m<ipython-input-21-8337e4d5075e>\u001b[0m in \u001b[0;36m<module>\u001b[0;34m()\u001b[0m\n\u001b[0;32m----> 1\u001b[0;31m \u001b[0mspam\u001b[0m \u001b[0;34m=\u001b[0m \u001b[0mtrue\u001b[0m\u001b[0;34m\u001b[0m\u001b[0m\n\u001b[0m\u001b[1;32m      2\u001b[0m \u001b[0mspam\u001b[0m\u001b[0;34m\u001b[0m\u001b[0m\n",
      "\u001b[0;31mNameError\u001b[0m: name 'true' is not defined"
     ]
    }
   ],
   "source": [
    "spam = true\n",
    "spam"
   ]
  },
  {
   "cell_type": "code",
   "execution_count": 22,
   "metadata": {
    "collapsed": false
   },
   "outputs": [
    {
     "ename": "SyntaxError",
     "evalue": "can't assign to keyword (<ipython-input-22-5f87ef2f4024>, line 1)",
     "output_type": "error",
     "traceback": [
      "\u001b[0;36m  File \u001b[0;32m\"<ipython-input-22-5f87ef2f4024>\"\u001b[0;36m, line \u001b[0;32m1\u001b[0m\n\u001b[0;31m    True = 2 + 2\u001b[0m\n\u001b[0m                ^\u001b[0m\n\u001b[0;31mSyntaxError\u001b[0m\u001b[0;31m:\u001b[0m can't assign to keyword\n"
     ]
    }
   ],
   "source": [
    "True = 2 + 2"
   ]
  },
  {
   "cell_type": "markdown",
   "metadata": {},
   "source": [
    "__Arbeitsauftrag:__ Welche Vergleichsoperatoren gibt es unter Python3?"
   ]
  },
  {
   "cell_type": "markdown",
   "metadata": {},
   "source": [
    "## Boolsche Operatoren"
   ]
  },
  {
   "cell_type": "code",
   "execution_count": 23,
   "metadata": {
    "collapsed": false
   },
   "outputs": [
    {
     "data": {
      "text/plain": [
       "True"
      ]
     },
     "execution_count": 23,
     "metadata": {},
     "output_type": "execute_result"
    }
   ],
   "source": [
    "True and True"
   ]
  },
  {
   "cell_type": "code",
   "execution_count": 24,
   "metadata": {
    "collapsed": false
   },
   "outputs": [
    {
     "data": {
      "text/plain": [
       "False"
      ]
     },
     "execution_count": 24,
     "metadata": {},
     "output_type": "execute_result"
    }
   ],
   "source": [
    "True and False"
   ]
  },
  {
   "cell_type": "code",
   "execution_count": 25,
   "metadata": {
    "collapsed": false
   },
   "outputs": [
    {
     "data": {
      "text/plain": [
       "True"
      ]
     },
     "execution_count": 25,
     "metadata": {},
     "output_type": "execute_result"
    }
   ],
   "source": [
    "False or True"
   ]
  },
  {
   "cell_type": "code",
   "execution_count": 26,
   "metadata": {
    "collapsed": false
   },
   "outputs": [
    {
     "data": {
      "text/plain": [
       "False"
      ]
     },
     "execution_count": 26,
     "metadata": {},
     "output_type": "execute_result"
    }
   ],
   "source": [
    "False or False"
   ]
  },
  {
   "cell_type": "code",
   "execution_count": 27,
   "metadata": {
    "collapsed": false
   },
   "outputs": [
    {
     "data": {
      "text/plain": [
       "False"
      ]
     },
     "execution_count": 27,
     "metadata": {},
     "output_type": "execute_result"
    }
   ],
   "source": [
    "not True"
   ]
  },
  {
   "cell_type": "code",
   "execution_count": 28,
   "metadata": {
    "collapsed": false
   },
   "outputs": [
    {
     "data": {
      "text/plain": [
       "True"
      ]
     },
     "execution_count": 28,
     "metadata": {},
     "output_type": "execute_result"
    }
   ],
   "source": [
    "not not not not True"
   ]
  },
  {
   "cell_type": "code",
   "execution_count": 29,
   "metadata": {
    "collapsed": false
   },
   "outputs": [
    {
     "data": {
      "text/plain": [
       "True"
      ]
     },
     "execution_count": 29,
     "metadata": {},
     "output_type": "execute_result"
    }
   ],
   "source": [
    "(4 < 5) and (5 < 6)"
   ]
  },
  {
   "cell_type": "code",
   "execution_count": 30,
   "metadata": {
    "collapsed": false
   },
   "outputs": [
    {
     "data": {
      "text/plain": [
       "False"
      ]
     },
     "execution_count": 30,
     "metadata": {},
     "output_type": "execute_result"
    }
   ],
   "source": [
    "(4 < 5) and (9 < 6)"
   ]
  },
  {
   "cell_type": "code",
   "execution_count": 31,
   "metadata": {
    "collapsed": false
   },
   "outputs": [
    {
     "data": {
      "text/plain": [
       "True"
      ]
     },
     "execution_count": 31,
     "metadata": {},
     "output_type": "execute_result"
    }
   ],
   "source": [
    "(1 == 2) or (2 == 2)"
   ]
  },
  {
   "cell_type": "markdown",
   "metadata": {},
   "source": [
    "## Elemente zur Flusssteuerung\n",
    "\n",
    "Fast alle Flusssteuerungselemente fangen mit einer __Bedingung__ an, auf der ein __Codeblock (Klausel)__ folgt.\n",
    "\n",
    "### Codeblock\n",
    "\n",
    "1. Ein Codeblock fängt mit einer Einrückung an.\n",
    "2. Blöcke können weitere Blöcke beinhalten.\n",
    "3. Ein Block endet, wenn die Einrückung auf null geht, oder auf die Einrückung des einschließenden Blocks zurückgeht.\n",
    "\n",
    "Siehe auch: http://www.python-kurs.eu/python3_bloecke.php\n"
   ]
  },
  {
   "cell_type": "code",
   "execution_count": 32,
   "metadata": {
    "collapsed": false
   },
   "outputs": [
    {
     "name": "stdout",
     "output_type": "stream",
     "text": [
      "Michl\n"
     ]
    }
   ],
   "source": [
    "# Flusssteuerung mit Codeblöcken\n",
    "name = input()\n",
    "password = ''\n",
    "if name == 'Marry':\n",
    "    print('Hallo Marry')\n",
    "    if password == 'swordfish':\n",
    "        print('Access granted.')\n",
    "    else:\n",
    "        print('Wrong password')"
   ]
  },
  {
   "cell_type": "markdown",
   "metadata": {
    "collapsed": true
   },
   "source": [
    "## Flusssteuerungsanweisungen\n",
    "\n",
    "### if-Anweisung\n",
    "\n",
    "* Schlüsselwort if\n",
    "* Einer Bedingung\n",
    "* Einen Doppelpunkt\n",
    "* Einen eingerückten Codeblock\n",
    "\n",
    "### else-Anweisung\n",
    "\n",
    "* Schlüsselwort else\n",
    "* Einem Doppelpunkt\n",
    "* Einen eingerückten Codeblock\n",
    "\n",
    "### elif-Anweisung\n",
    "\n",
    "* Schlüsselwort elif\n",
    "* Einer Bedingung\n",
    "* Einen Doppelpunkt\n",
    "* Einen eingerückten Codeblock\n",
    "\n",
    "### while-Schleifen\n",
    "\n",
    "* Schlüsselwort while\n",
    "* Einer Bedingung\n",
    "* Einen Doppelpunkt\n",
    "* Einen eingerückten Codeblock\n",
    "\n"
   ]
  },
  {
   "cell_type": "code",
   "execution_count": 33,
   "metadata": {
    "collapsed": false
   },
   "outputs": [
    {
     "name": "stdout",
     "output_type": "stream",
     "text": [
      "Hallo, Welt!\n",
      "Hallo, Welt!\n",
      "Hallo, Welt!\n",
      "Hallo, Welt!\n",
      "Hallo, Welt!\n"
     ]
    }
   ],
   "source": [
    "spam = 0\n",
    "while spam < 5:\n",
    "    print('Hallo, Welt!')\n",
    "    spam = spam + 1"
   ]
  },
  {
   "cell_type": "code",
   "execution_count": 34,
   "metadata": {
    "collapsed": false
   },
   "outputs": [
    {
     "name": "stdout",
     "output_type": "stream",
     "text": [
      "Bitte tippe deinen Namen\n",
      "michl\n",
      "Bitte tippe deinen Namen\n",
      "deinen Namen\n",
      "Danke sehr\n"
     ]
    }
   ],
   "source": [
    "name = ''\n",
    "while name != 'deinen Namen':\n",
    "    print('Bitte tippe deinen Namen')\n",
    "    name = input()\n",
    "print('Danke sehr')"
   ]
  },
  {
   "cell_type": "markdown",
   "metadata": {},
   "source": [
    "### break-Anweisung\n",
    "\n",
    "Bei einer break-Anweisung wird eine while-Schleif sofort verlassen."
   ]
  },
  {
   "cell_type": "code",
   "execution_count": 35,
   "metadata": {
    "collapsed": false
   },
   "outputs": [
    {
     "name": "stdout",
     "output_type": "stream",
     "text": [
      "Bitte tippe deinen Namen\n",
      "klaus\n",
      "Bitte tippe deinen Namen\n",
      "deinen Namen\n",
      "Danke sehr\n"
     ]
    }
   ],
   "source": [
    "while True:\n",
    "    print('Bitte tippe deinen Namen')\n",
    "    name = input()\n",
    "    if name == 'deinen Namen':\n",
    "        break\n",
    "print('Danke sehr')"
   ]
  },
  {
   "cell_type": "markdown",
   "metadata": {},
   "source": [
    "### continue-Anweisung\n",
    "\n",
    "Bei einer continue-Anweisung erfolgt ein Rücksprung zum Anfang der Schleife."
   ]
  },
  {
   "cell_type": "code",
   "execution_count": 36,
   "metadata": {
    "collapsed": false
   },
   "outputs": [
    {
     "name": "stdout",
     "output_type": "stream",
     "text": [
      "Wer bist Du?\n",
      "Klaus\n",
      "Wer bist Du?\n",
      "Michael\n",
      "Hallo Michael. Wie lautet das Passwort. Tipp: Schule\n",
      "RDF\n",
      "Zugang gewährt\n"
     ]
    }
   ],
   "source": [
    "while True:\n",
    "    print('Wer bist Du?')\n",
    "    name = input()\n",
    "    if name != 'Michael':\n",
    "        continue\n",
    "    print('Hallo Michael. Wie lautet das Passwort. Tipp: Schule')\n",
    "    password = input()\n",
    "    if password == \"RDF\":\n",
    "        break\n",
    "print('Zugang gewährt')"
   ]
  },
  {
   "cell_type": "markdown",
   "metadata": {},
   "source": [
    "__Truthy und Falsey__\n",
    "\n",
    "In Bedingungen gelten 0, 0.0 und '' (ein leerer String) als False, alle anderen Werte dagegen als True."
   ]
  },
  {
   "cell_type": "code",
   "execution_count": 37,
   "metadata": {
    "collapsed": false
   },
   "outputs": [
    {
     "name": "stdout",
     "output_type": "stream",
     "text": [
      "Namen eingeben\n",
      "Michael\n",
      "Wie viele Schüler sind da?\n",
      "5\n",
      "Achte auf ausreichenden Platz\n",
      "Fertig\n"
     ]
    }
   ],
   "source": [
    "name = ''\n",
    "while not name:\n",
    "    print('Namen eingeben')\n",
    "    name = input()\n",
    "print('Wie viele Schüler sind da?')\n",
    "numOfPupil = int(input())\n",
    "if numOfPupil:\n",
    "    print('Achte auf ausreichenden Platz')\n",
    "print('Fertig')"
   ]
  },
  {
   "cell_type": "markdown",
   "metadata": {},
   "source": [
    "### for-Schleife und range()\n",
    "\n",
    "* Schlüsselwort for\n",
    "* Einem Variablennamen\n",
    "* Dem Schlüsselwort in\n",
    "* Einen Aufruf von range()\n",
    "* Einem Doppelpunkt\n",
    "* Einen eingerückten Codeblock\n",
    "\n",
    "Auch hier gibt es break und contiue."
   ]
  },
  {
   "cell_type": "code",
   "execution_count": 38,
   "metadata": {
    "collapsed": false
   },
   "outputs": [
    {
     "name": "stdout",
     "output_type": "stream",
     "text": [
      "Mein Name ist\n",
      "Foobar (0)\n",
      "Foobar (1)\n",
      "Foobar (2)\n",
      "Foobar (3)\n",
      "Foobar (4)\n"
     ]
    }
   ],
   "source": [
    "print('Mein Name ist')\n",
    "for i in range(5):\n",
    "    print('Foobar (' + str(i) + ')')"
   ]
  },
  {
   "cell_type": "markdown",
   "metadata": {},
   "source": [
    "__Aufgabe__ Addieren Sie mit Python alle Zahlen von 0 bis 100 (1000)"
   ]
  },
  {
   "cell_type": "markdown",
   "metadata": {},
   "source": [
    "### Anfangs-, End- und Schrittwerte für range()\n"
   ]
  },
  {
   "cell_type": "code",
   "execution_count": 39,
   "metadata": {
    "collapsed": false
   },
   "outputs": [
    {
     "name": "stdout",
     "output_type": "stream",
     "text": [
      "12\n",
      "13\n",
      "14\n",
      "15\n"
     ]
    }
   ],
   "source": [
    "for i in range(12,16):\n",
    "    print(i)"
   ]
  },
  {
   "cell_type": "code",
   "execution_count": 40,
   "metadata": {
    "collapsed": false
   },
   "outputs": [
    {
     "name": "stdout",
     "output_type": "stream",
     "text": [
      "0\n",
      "2\n",
      "4\n",
      "6\n",
      "8\n"
     ]
    }
   ],
   "source": [
    "for i in range(0, 10, 2):\n",
    "    print(i)"
   ]
  },
  {
   "cell_type": "code",
   "execution_count": 41,
   "metadata": {
    "collapsed": false
   },
   "outputs": [
    {
     "name": "stdout",
     "output_type": "stream",
     "text": [
      "5\n",
      "4\n",
      "3\n",
      "2\n",
      "1\n",
      "0\n"
     ]
    }
   ],
   "source": [
    "for i in range(5, -1, -1):\n",
    "    print(i)"
   ]
  },
  {
   "cell_type": "markdown",
   "metadata": {},
   "source": [
    "## Module importieren\n",
    "\n",
    "* Das Schlüsselwort import\n",
    "* Der Name des Modules\n",
    "* Optional weitere Modulenamen, durch Kommata getrennt"
   ]
  },
  {
   "cell_type": "code",
   "execution_count": 42,
   "metadata": {
    "collapsed": false
   },
   "outputs": [
    {
     "name": "stdout",
     "output_type": "stream",
     "text": [
      "6\n",
      "9\n",
      "1\n",
      "1\n",
      "9\n"
     ]
    }
   ],
   "source": [
    "import random\n",
    "for i in range(5):\n",
    "    print(random.randint(1, 10))"
   ]
  },
  {
   "cell_type": "code",
   "execution_count": 43,
   "metadata": {
    "collapsed": true
   },
   "outputs": [],
   "source": [
    "import random, sys, os, math"
   ]
  },
  {
   "cell_type": "code",
   "execution_count": 44,
   "metadata": {
    "collapsed": false
   },
   "outputs": [
    {
     "name": "stdout",
     "output_type": "stream",
     "text": [
      "Bitte exit eingeben um aufzuhören\n",
      "weiter\n",
      "Deine Eingabe war weiter.\n",
      "Bitte exit eingeben um aufzuhören\n",
      "aufhören\n",
      "Deine Eingabe war aufhören.\n",
      "Bitte exit eingeben um aufzuhören\n",
      "exit\n"
     ]
    },
    {
     "ename": "SystemExit",
     "evalue": "",
     "output_type": "error",
     "traceback": [
      "An exception has occurred, use %tb to see the full traceback.\n",
      "\u001b[0;31mSystemExit\u001b[0m\n"
     ]
    },
    {
     "name": "stderr",
     "output_type": "stream",
     "text": [
      "/home/michl/.local/lib/python3.5/site-packages/IPython/core/interactiveshell.py:2889: UserWarning: To exit: use 'exit', 'quit', or Ctrl-D.\n",
      "  warn(\"To exit: use 'exit', 'quit', or Ctrl-D.\", stacklevel=1)\n"
     ]
    }
   ],
   "source": [
    "import sys\n",
    "\n",
    "while True:\n",
    "    print('Bitte exit eingeben um aufzuhören')\n",
    "    response = input()\n",
    "    if response == 'exit':\n",
    "        sys.exit()\n",
    "    print('Deine Eingabe war ' + response + '.')"
   ]
  },
  {
   "cell_type": "code",
   "execution_count": 45,
   "metadata": {
    "collapsed": false
   },
   "outputs": [
    {
     "name": "stdout",
     "output_type": "stream",
     "text": [
      "Heut ist: 2016-11-03\n",
      "System: Linux\n",
      "Rechner heist: michl-laptop\n",
      "Die Platform ist: x86_64\n",
      "Uptime ist: b' 15:01:02 up 1 day,  8:34,  3 users,  load average: 0,53, 0,65, 0,76\\n'\n",
      "Ip ist: 192.168.56.200\n"
     ]
    }
   ],
   "source": [
    "import platform, datetime, os, subprocess, socket\n",
    "today = datetime.date.today()\n",
    "print('Heut ist: ' + str(today))\n",
    "system = platform.system()\n",
    "print('System: '+ system)\n",
    "node = platform.node()\n",
    "print('Rechner heist: ' + node)\n",
    "arch = platform.machine()\n",
    "print('Die Platform ist: ' + arch)\n",
    "#user = os.getlogin()\n",
    "#space = os.statvfs('/home/'+user)\n",
    "#freespace = (space.f_frsize * space.f_bavail)/1024/1024\n",
    "\n",
    "get_uptime = subprocess.Popen('uptime', stdout=subprocess.PIPE)\n",
    "uptime = get_uptime.stdout.read()\n",
    "print('Uptime ist: ' + str(uptime))\n",
    "\n",
    "myip = socket.socket(socket.AF_INET, socket.SOCK_DGRAM)\n",
    "myip.connect(('8.8.8.8', 80))\n",
    "getip = myip.getsockname()[0]\n",
    "myip.close()\n",
    "print('Ip ist: ' + getip)"
   ]
  }
 ],
 "metadata": {
  "kernelspec": {
   "display_name": "Python 3",
   "language": "python",
   "name": "python3"
  },
  "language_info": {
   "codemirror_mode": {
    "name": "ipython",
    "version": 3
   },
   "file_extension": ".py",
   "mimetype": "text/x-python",
   "name": "python",
   "nbconvert_exporter": "python",
   "pygments_lexer": "ipython3",
   "version": "3.5.2"
  }
 },
 "nbformat": 4,
 "nbformat_minor": 1
}
