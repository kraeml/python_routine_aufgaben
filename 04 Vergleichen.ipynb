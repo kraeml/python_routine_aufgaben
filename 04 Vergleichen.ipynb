{
 "cells": [
  {
   "cell_type": "markdown",
   "metadata": {},
   "source": [
    "# Analyse\n",
    "\n",
    "## Kommentare\n",
    "\n",
    "* Python ignoriert Kommentare die mit einem `#` anfangen.\n",
    "* Python ignoriert __Leerzeilen__.\n",
    "\n",
    "## Die Funktion print()\n",
    "\n",
    "Die Funktion print() gibt den Stringwert auf dem Bildschirm aus.\n",
    "\n",
    "## Die Funktion input()\n",
    "\n",
    "Die Funktion input() wartet auf Benutzereingaben die mit Enter abgeschlossen werden. Der Eingabewert wird als String zurückgegeben.\n",
    "\n",
    "## Die Funktion len()\n",
    "\n",
    "Die Funktion len() kann ein String ubergeben werden. Der Rückgabewert ist ein Integer, der die Anzahl der Zeichen im String angibt.\n",
    "\n",
    "## Die Funktion str(), int() und float()\n",
    "\n",
    "Die Funktionen str(), int() und float() liefen einen String-, Integer- bzw. Floatkommaversion des Übergabewertes.\n"
   ]
  },
  {
   "cell_type": "code",
   "execution_count": 16,
   "metadata": {
    "collapsed": false
   },
   "outputs": [
    {
     "data": {
      "text/plain": [
       "False"
      ]
     },
     "execution_count": 16,
     "metadata": {},
     "output_type": "execute_result"
    }
   ],
   "source": [
    "# Gleichheit von Text und Zahlen\n",
    "42 == '42'"
   ]
  },
  {
   "cell_type": "code",
   "execution_count": 17,
   "metadata": {
    "collapsed": false
   },
   "outputs": [
    {
     "data": {
      "text/plain": [
       "True"
      ]
     },
     "execution_count": 17,
     "metadata": {},
     "output_type": "execute_result"
    }
   ],
   "source": [
    "42 == 42.0"
   ]
  },
  {
   "cell_type": "code",
   "execution_count": 18,
   "metadata": {
    "collapsed": false
   },
   "outputs": [
    {
     "data": {
      "text/plain": [
       "True"
      ]
     },
     "execution_count": 18,
     "metadata": {},
     "output_type": "execute_result"
    }
   ],
   "source": [
    "42.0 == 0042.000"
   ]
  }
 ],
 "metadata": {
  "kernelspec": {
   "display_name": "Python 3",
   "language": "python",
   "name": "python3"
  },
  "language_info": {
   "codemirror_mode": {
    "name": "ipython",
    "version": 3
   },
   "file_extension": ".py",
   "mimetype": "text/x-python",
   "name": "python",
   "nbconvert_exporter": "python",
   "pygments_lexer": "ipython3",
   "version": "3.5.2"
  }
 },
 "nbformat": 4,
 "nbformat_minor": 1
}
